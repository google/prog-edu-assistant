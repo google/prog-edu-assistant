{
 "cells": [
  {
   "cell_type": "markdown",
   "metadata": {},
   "source": [
    "\n",
    "# Hello world\n",
    "\n",
    "In this unit you will learn how to use Python to implement the first ever program\n",
    "that *every* programmer starts with. This also serves as an example for the master\n",
    "notebook format.\n",
    "\n",
    "```\n",
    "# All markdown cells are searched for triple-backtick blocks. Within a triple quoted block,\n",
    "# a match on /^# ASSIGNMENT METADATA/ will trigger handling this as an assignment-level metadata\n",
    "# block. The rest of the metadata is parsed as YAML and may be used e.g. for setting\n",
    "# default settings for autograder isolation (memory limit etc).\n",
    "# The assignment_id is useful to identify which assignment a submission pertains to.\n",
    "# ASSIGNMENT METADATA\n",
    "assignment_id: \"HelloWorld\"\n",
    "```\n",
    "\n",
    "## Introduction\n",
    "\n",
    "Here is the traditional first programming exercise, called \"Hello world\".\n",
    "The task is to print the message: \"Hello, world\".\n",
    "\n",
    "Here are a few examples to get you started. Run the following cells and see how\n",
    "you can print a message. To run a cell, click with mouse inside a cell, then\n",
    "press Ctrl+Enter to execute it. If you want to execute a few cells sequentially,\n",
    "then press Shift+Enter instead, and the focus will be automatically moved\n",
    "to the next cell as soon as one cell finishes execution."
   ]
  },
  {
   "cell_type": "code",
   "execution_count": 1,
   "metadata": {},
   "outputs": [
    {
     "name": "stdout",
     "output_type": "stream",
     "text": [
      "hello\n"
     ]
    }
   ],
   "source": [
    "print(\"hello\")"
   ]
  },
  {
   "cell_type": "code",
   "execution_count": 2,
   "metadata": {},
   "outputs": [
    {
     "name": "stdout",
     "output_type": "stream",
     "text": [
      "bye bye\n"
     ]
    }
   ],
   "source": [
    "print(\"bye bye\")"
   ]
  },
  {
   "cell_type": "code",
   "execution_count": 3,
   "metadata": {},
   "outputs": [
    {
     "name": "stdout",
     "output_type": "stream",
     "text": [
      "hey you\n"
     ]
    }
   ],
   "source": [
    "print(\"hey\", \"you\")"
   ]
  },
  {
   "cell_type": "code",
   "execution_count": 4,
   "metadata": {},
   "outputs": [
    {
     "name": "stdout",
     "output_type": "stream",
     "text": [
      "one\n",
      "two\n"
     ]
    }
   ],
   "source": [
    "print(\"one\")\n",
    "print(\"two\")"
   ]
  },
  {
   "cell_type": "code",
   "execution_count": 5,
   "metadata": {},
   "outputs": [],
   "source": [
    "# MASTER ONLY\n",
    "from prog_edu_assistant_tools.summary_test_result import SummaryTestResult\n",
    "# imports %%solution, %%submission, %%template\n",
    "%load_ext prog_edu_assistant_tools.magics\n",
    "from prog_edu_assistant_tools.magics import report, autotest"
   ]
  },
  {
   "cell_type": "markdown",
   "metadata": {},
   "source": [
    "## Exercise 1: printing greeting\n",
    "\n",
    "```\n",
    "# The markdown cell with triple-backtick block matching /^# EXERCISE METADATA/ is an exercise-level\n",
    "# metadata. The next block is assumed to be the solution block, and will get annotated with\n",
    "# the exercise_id.\n",
    "# EXERCISE METADATA\n",
    "exercise_id: \"hello1\"\n",
    "```\n",
    "\n",
    "Now it is your turn. Please create a program in the next cell that would print a message \"Hello, world\":"
   ]
  },
  {
   "cell_type": "code",
   "execution_count": 6,
   "metadata": {},
   "outputs": [
    {
     "name": "stdout",
     "output_type": "stream",
     "text": [
      "Hello, world\n"
     ]
    }
   ],
   "source": [
    "%%solution\n",
    "\"\"\" # BEGIN PROMPT\n",
    "# ... put your program here\n",
    "\"\"\" # END PROMPT\n",
    "# BEGIN SOLUTION\n",
    "print(\"Hello, world\")\n",
    "# END SOLUTION"
   ]
  },
  {
   "cell_type": "code",
   "execution_count": 7,
   "metadata": {},
   "outputs": [
    {
     "data": {
      "text/plain": [
       "namespace(source='print(\"Hello, world\")')"
      ]
     },
     "execution_count": 7,
     "metadata": {},
     "output_type": "execute_result"
    }
   ],
   "source": [
    "# MASTER ONLY\n",
    "submission_source"
   ]
  },
  {
   "cell_type": "code",
   "execution_count": 8,
   "metadata": {},
   "outputs": [
    {
     "name": "stdout",
     "output_type": "stream",
     "text": [
      "test_has_hello (__main__.HelloOutputTest) ... ok\n",
      "test_not_empty (__main__.HelloOutputTest) ... ok\n",
      "test_output (__main__.HelloOutputTest) ... ok\n",
      "\n",
      "----------------------------------------------------------------------\n",
      "Ran 3 tests in 0.000s\n",
      "\n",
      "OK\n",
      "\n"
     ]
    }
   ],
   "source": [
    "# This will not be included in the student notebook because of BEGIN UNITTEST marker below.\n",
    "\n",
    "# The test below assumes that the solution above was written into two files:\n",
    "# - submission.py with the solution code\n",
    "# - submission_source.py which defines a single variable source whose value holds the source\n",
    "#   code of the submission.\n",
    "#\n",
    "# and then imported with\n",
    "#\n",
    "#   import submission_source\n",
    "#   import submission\n",
    "#\n",
    "# In the Jupyter notebook, this setup is performed by %%solution and %%submission magics.\n",
    "\n",
    "# BEGIN UNITTEST\n",
    "# The unit tests main part is contained between \"BEGIN UNITTEST\" and \"END UNITTEST\". It will be copied\n",
    "# verbatim into the autograder directory, with 'import submission' or 'import submission_source' uncommented.\n",
    "import unittest\n",
    "#import submission_source\n",
    "\n",
    "import sys\n",
    "import io\n",
    "from contextlib import contextmanager\n",
    "from io import StringIO\n",
    "\n",
    "# TODO(salikh): Move the helper code into a library.\n",
    "@contextmanager\n",
    "def capture_output():\n",
    "    \"\"\"Captures the stdout and stderr into StringIO objects.\"\"\"\n",
    "    capture_out, capture_err = StringIO(), StringIO()\n",
    "    save_out, save_err = sys.stdout, sys.stderr\n",
    "    try:\n",
    "        sys.stdout, sys.stderr = capture_out, capture_err\n",
    "        yield sys.stdout, sys.stderr\n",
    "    finally:\n",
    "        sys.stdout, sys.stderr = save_out, save_err\n",
    "\n",
    "class HelloOutputTest(unittest.TestCase):\n",
    "    def test_output(self):\n",
    "        with capture_output() as (out, err):\n",
    "            # Exercise the code under test:\n",
    "            exec(submission_source.source)\n",
    "        self.assertEqual(err.getvalue(), \"\")\n",
    "        self.assertEqual(out.getvalue(), \"Hello, world\\n\")\n",
    "        \n",
    "    def test_not_empty(self):\n",
    "        with capture_output() as (out, err):\n",
    "            exec(submission_source.source)\n",
    "        self.assertNotEqual(out.getvalue(), \"\")\n",
    "        \n",
    "    def test_has_hello(self):\n",
    "        with capture_output() as (out, err):\n",
    "            exec(submission_source.source)\n",
    "        self.assertTrue(\"Hello\" in out.getvalue())\n",
    "\n",
    "# END UNITTEST\n",
    "\n",
    "# The parts after END UNITTEST are executed in the notebook environment, but not copied\n",
    "# to the autograder scripts or to student notebooks.\n",
    "\n",
    "result, log = autotest(HelloOutputTest)\n",
    "# Optional. Useful for debugging.\n",
    "print(log)\n",
    "# Can assert the results\n",
    "for k in result.results.keys():\n",
    "    assert(result.results[k])"
   ]
  },
  {
   "cell_type": "code",
   "execution_count": 9,
   "metadata": {},
   "outputs": [],
   "source": [
    "%%template HelloOutputTest_template\n",
    "<h2 style='color: #387;'>Your submission</h2>\n",
    "<pre style='background: #F0F0F0; padding: 3pt; margin: 4pt; border: 1pt solid #DDD; border-radius: 3pt;'>{{ formatted_source }}</pre>\n",
    "<h2 style='color: #387;'>Results</h2>\n",
    "{% if not results['HelloOutputTest.test_not_empty'] %}\n",
    "Your snippet does not produce any output. Please add a print statement.\n",
    "{% elif not results['HelloOutputTest.test_has_hello'] %}\n",
    "The output of your code does not include \"Hello\" string. Please add it.\n",
    "{% elif not results['HelloOutputTest.test_output'] %}\n",
    "The output is incorrect. Please make sure it is exactly \"Hello, world\".\n",
    "{% else %}\n",
    "Your code looks okay.\n",
    "{% endif %}\n",
    "\n",
    "<hr>\n",
    "<h2>Full result vector</h2>\n",
    "{{results}}\n",
    "{% if logs: %}\n",
    "<h2>Logs</h2>\n",
    "{% for k in logs: %}\n",
    "<h3>{{k}}</h3>\n",
    "<pre>{{logs[k]}}</pre>\n",
    "{% endfor %}\n",
    "{% endif %}"
   ]
  },
  {
   "cell_type": "code",
   "execution_count": 10,
   "metadata": {},
   "outputs": [
    {
     "data": {
      "text/html": [
       "<h2 style='color: #387;'>Your submission</h2>\n",
       "<pre style='background: #F0F0F0; padding: 3pt; margin: 4pt; border: 1pt solid #DDD; border-radius: 3pt;'<div class=\"highlight\"><pre><span></span><span class=\"k\">print</span><span class=\"p\">(</span><span class=\"s2\">&quot;Hello, world&quot;</span><span class=\"p\">)</span>\n",
       "</pre></div>\n",
       "</pre>\n",
       "<h2 style='color: #387;'>Results</h2>\n",
       "\n",
       "Your code looks okay.\n",
       "\n",
       "\n",
       "<hr>\n",
       "<h2>Full result vector</h2>\n",
       "{'HelloOutputTest.test_has_hello': True, 'HelloOutputTest.test_not_empty': True, 'HelloOutputTest.test_output': True}\n"
      ],
      "text/plain": [
       "<IPython.core.display.HTML object>"
      ]
     },
     "execution_count": 10,
     "metadata": {},
     "output_type": "execute_result"
    }
   ],
   "source": [
    "from prog_edu_assistant_tools.magics import report\n",
    "report(HelloOutputTest_template, source=submission_source.source, results=result.results)"
   ]
  },
  {
   "cell_type": "markdown",
   "metadata": {},
   "source": [
    "## Exercise 2: returning greeting as value\n",
    "\n",
    "```\n",
    "# EXERCISE METADATA\n",
    "exercise_id: \"hello2\"\n",
    "```\n",
    "\n",
    "Please create a function that given a name string returns a string with a greeting,\n",
    "For example, for input `\"world\"` it should return `\"Hello, world\"`."
   ]
  },
  {
   "cell_type": "code",
   "execution_count": 11,
   "metadata": {},
   "outputs": [],
   "source": [
    "%%solution\n",
    "def hello(name):\n",
    "    \"\"\" # BEGIN PROMPT\n",
    "    # Please put your solution here:\n",
    "    # return ...\n",
    "    pass\n",
    "    \"\"\" # END PROMPT\n",
    "    # BEGIN SOLUTION\n",
    "    return \"Hello, \" + name\n",
    "    # END SOLUTION"
   ]
  },
  {
   "cell_type": "code",
   "execution_count": 12,
   "metadata": {},
   "outputs": [],
   "source": [
    "# TEST\n",
    "assert(hello(\"world\") == \"Hello, world\")"
   ]
  },
  {
   "cell_type": "markdown",
   "metadata": {},
   "source": [
    "A code cell marked with `\"# TEST\"` will be converted into a unit test for the solution. It will also be preserved in the student version of the notebook.\n",
    "\n",
    "##### MASTER ONLY\n",
    "\n",
    "`# MASTER ONLY` marker works in text cells too."
   ]
  },
  {
   "cell_type": "code",
   "execution_count": 13,
   "metadata": {},
   "outputs": [
    {
     "name": "stdout",
     "output_type": "stream",
     "text": [
      "test_hello (__main__.HelloTest) ... ok\n",
      "test_includes_arg (__main__.HelloTest) ... ok\n",
      "test_includes_hello (__main__.HelloTest) ... ok\n",
      "\n",
      "----------------------------------------------------------------------\n",
      "Ran 3 tests in 0.000s\n",
      "\n",
      "OK\n",
      "\n",
      "{'HelloTest.test_hello': True, 'HelloTest.test_includes_arg': True, 'HelloTest.test_includes_hello': True}\n"
     ]
    }
   ],
   "source": [
    "# The part before \"BEGIN UNITTEST\" -- preamble -- sets up the environment so that 'submission.hello'\n",
    "# is a function that we need to test. In the autograder worker environment, the preamble will be\n",
    "# replaced with 'import submission' with an assumption that the student's solution will be written\n",
    "# to the file 'submission.py'. The submission source will be available in submission_source.py\n",
    "# that will define a single variable named 'source'.\n",
    "\n",
    "# The unit tests main part is contained between \"BEGIN UNITTEST\" and \"END UNITTEST\". It will be copied\n",
    "# verbatim into the autograder directory, with an addition of 'import submission' and 'import submission_source'\n",
    "\n",
    "# BEGIN UNITTEST\n",
    "#import submission\n",
    "\n",
    "import unittest\n",
    "import ast\n",
    "\n",
    "class HelloTest(unittest.TestCase):\n",
    "    \n",
    "    def test_hello(self):\n",
    "        self.assertEqual(submission.hello(\"one\"), \"Hello, one\")\n",
    "        \n",
    "    def test_includes_arg(self):\n",
    "        self.assertTrue(\"xyz123\" in submission.hello(\"xyz123\"))\n",
    "        \n",
    "    def test_includes_hello(self):\n",
    "        self.assertTrue(\"Hello\" in submission.hello(\"xyz123\"))\n",
    "\n",
    "# END UNITTEST\n",
    "\n",
    "from prog_edu_assistant_tools.magics import autotest\n",
    "\n",
    "result, log = autotest(HelloTest)\n",
    "# Optional.\n",
    "print(log)\n",
    "print(result.results)\n",
    "assert result.results['HelloTest.test_hello'] == True"
   ]
  },
  {
   "cell_type": "code",
   "execution_count": 14,
   "metadata": {},
   "outputs": [],
   "source": [
    "%%template HelloTest_template\n",
    "<h2 style='color: #387;'>Your submission</h2>\n",
    "<pre style='background: #F0F0F0; padding: 3pt; margin: 4pt; border: 1pt solid #DDD; border-radius: 3pt;'>{{ formatted_source }}</pre>\n",
    "<h2 style='color: #387;'>Results</h2>\n",
    "{% if not results['HelloTest.py'] %}\n",
    "Your code does not compile\n",
    "{% elif not results['HelloTest.test_includes_hello'] %}\n",
    "The response from your function does not include \"Hello\" string. Please check if you have included it.\n",
    "{% elif not results['HelloTest.test_includes_arg'] %}\n",
    "The response from your function does not include the person name, which as given as the function argument.\n",
    "{% elif not results['HelloTest.test_hello'] %}\n",
    "Something is wrong.\n",
    "{% else %}\n",
    "Your code looks okay.\n",
    "{% endif %}\n",
    "\n",
    "<hr>\n",
    "<h2>Full result vector</h2>\n",
    "{{results}}\n",
    "{% if logs: %}\n",
    "<h2>Logs</h2>\n",
    "{% for k in logs: %}\n",
    "<h3>{{k}}</h3>\n",
    "<pre>{{logs[k]}}</pre>\n",
    "{% endfor %}\n",
    "{% endif %}"
   ]
  },
  {
   "cell_type": "code",
   "execution_count": 15,
   "metadata": {},
   "outputs": [
    {
     "data": {
      "text/html": [
       "<h2 style='color: #387;'>Your submission</h2>\n",
       "<pre style='background: #F0F0F0; padding: 3pt; margin: 4pt; border: 1pt solid #DDD; border-radius: 3pt;'<div class=\"highlight\"><pre><span></span><span class=\"k\">def</span> <span class=\"nf\">hello</span><span class=\"p\">(</span><span class=\"n\">name</span><span class=\"p\">):</span>\n",
       "    <span class=\"k\">return</span> <span class=\"s2\">&quot;Hello, &quot;</span> <span class=\"o\">+</span> <span class=\"n\">name</span>\n",
       "</pre></div>\n",
       "</pre>\n",
       "<h2 style='color: #387;'>Results</h2>\n",
       "\n",
       "Your code does not compile\n",
       "\n",
       "\n",
       "<hr>\n",
       "<h2>Full result vector</h2>\n",
       "{'HelloTest.test_hello': True, 'HelloTest.test_includes_arg': True, 'HelloTest.test_includes_hello': True}\n"
      ],
      "text/plain": [
       "<IPython.core.display.HTML object>"
      ]
     },
     "execution_count": 15,
     "metadata": {},
     "output_type": "execute_result"
    }
   ],
   "source": [
    "# MASTER ONLY\n",
    "report(HelloTest_template, source=submission_source.source, results=result.results)"
   ]
  },
  {
   "cell_type": "code",
   "execution_count": 16,
   "metadata": {},
   "outputs": [
    {
     "name": "stdout",
     "output_type": "stream",
     "text": [
      "test_compiles (__main__.HelloSyntaxTest) ... ok\n",
      "\n",
      "----------------------------------------------------------------------\n",
      "Ran 1 test in 0.000s\n",
      "\n",
      "OK\n",
      "\n",
      "{'HelloSyntaxTest.test_compiles': True}\n"
     ]
    }
   ],
   "source": [
    "# BEGIN UNITTEST\n",
    "#import submission_source\n",
    "import unittest\n",
    "import ast\n",
    "\n",
    "class HelloSyntaxTest(unittest.TestCase):\n",
    "    def test_compiles(self):\n",
    "        # Expect success or exception.\n",
    "        ast.parse(submission_source.source)\n",
    "        \n",
    "# END UNITTEST        \n",
    "\n",
    "from prog_edu_assistant_tools.magics import autotest\n",
    "\n",
    "result, log = autotest(HelloSyntaxTest)\n",
    "# Optional.\n",
    "print(log)\n",
    "print(result.results)\n",
    "assert result.results['HelloSyntaxTest.test_compiles'] == True"
   ]
  },
  {
   "cell_type": "code",
   "execution_count": 17,
   "metadata": {},
   "outputs": [],
   "source": [
    "%%template HelloSyntaxTest_template\n",
    "<style type='text/css'>\n",
    ".k { color: purple; }\n",
    ".c1 { color: green; }\n",
    ".s2 { color: brown; }\n",
    "</style>\n",
    "<h2 style='color: #387;'>Your submission</h2>\n",
    "<pre style='background: #F0F0F0; padding: 3pt; margin: 4pt; border: 1pt solid #DDD; border-radius: 3pt;'>{{ formatted_source }}</pre>\n",
    "<h2 style='color: #087;'>Results</h2>\n",
    "{% if not results['HelloSyntaxTest.test_compiles']: %}\n",
    "Do you even compile, bro?\n",
    "{% else %}\n",
    "Syntax looks fine.\n",
    "{% endif %}\n",
    "\n",
    "<hr>\n",
    "<h2>Full result vector</h2>\n",
    "{{results}}\n",
    "{% if logs: %}\n",
    "<h2>Logs</h2>\n",
    "{% for k in logs: %}\n",
    "<h3>{{k}}</h3>\n",
    "<pre>{{logs[k]}}</pre>\n",
    "{% endfor %}\n",
    "{% endif %}"
   ]
  },
  {
   "cell_type": "code",
   "execution_count": 18,
   "metadata": {},
   "outputs": [
    {
     "data": {
      "text/html": [
       "<style type='text/css'>\n",
       ".k { color: purple; }\n",
       ".c1 { color: green; }\n",
       ".s2 { color: brown; }\n",
       "</style>\n",
       "<h2 style='color: #387;'>Your submission</h2>\n",
       "<pre><div class=\"highlight\"><pre><span></span><span class=\"k\">def</span> <span class=\"nf\">hello</span><span class=\"p\">(</span><span class=\"n\">name</span><span class=\"p\">):</span>\n",
       "    <span class=\"k\">return</span> <span class=\"s2\">&quot;Hello, &quot;</span> <span class=\"o\">+</span> <span class=\"n\">name</span>\n",
       "</pre></div>\n",
       "</pre>\n",
       "<h2 style='color: #087;'>Results</h2>\n",
       "\n",
       "Syntax looks fine.\n",
       "\n",
       "\n",
       "<hr>\n",
       "<h2>Full result vector</h2>\n",
       "{'HelloSyntaxTest.test_compiles': True}\n"
      ],
      "text/plain": [
       "<IPython.core.display.HTML object>"
      ]
     },
     "execution_count": 18,
     "metadata": {},
     "output_type": "execute_result"
    }
   ],
   "source": [
    "report(HelloSyntaxTest_template, source=submission_source.source, results=result.results)"
   ]
  },
  {
   "cell_type": "code",
   "execution_count": 19,
   "metadata": {},
   "outputs": [],
   "source": [
    "%%submission\n",
    "# The tests below test that the unit test suite above produces expected outcomes from\n",
    "def hello(name):\n",
    "    return \"Bye, \" + name"
   ]
  },
  {
   "cell_type": "code",
   "execution_count": 20,
   "metadata": {},
   "outputs": [],
   "source": [
    "# MASTER ONLY\n",
    "result1, log = autotest(HelloTest)\n",
    "#print(log)\n",
    "assert result1.results['HelloTest.test_hello'] == False\n",
    "assert result1.results['HelloTest.test_includes_hello'] == False\n",
    "assert result1.results['HelloTest.test_includes_arg'] == True"
   ]
  },
  {
   "cell_type": "code",
   "execution_count": 21,
   "metadata": {},
   "outputs": [
    {
     "name": "stdout",
     "output_type": "stream",
     "text": [
      "{'HelloTest.test_hello': False, 'HelloTest.test_includes_arg': True, 'HelloTest.test_includes_hello': False}\n"
     ]
    }
   ],
   "source": [
    "# MASTER ONLY\n",
    "print(result1.results)"
   ]
  },
  {
   "cell_type": "code",
   "execution_count": 22,
   "metadata": {},
   "outputs": [
    {
     "data": {
      "text/html": [
       "<h2 style='color: #387;'>Your submission</h2>\n",
       "<pre style='background: #F0F0F0; padding: 3pt; margin: 4pt; border: 1pt solid #DDD; border-radius: 3pt;'<div class=\"highlight\"><pre><span></span><span class=\"c1\"># The tests below test that the unit test suite above produces expected outcomes from</span>\n",
       "<span class=\"k\">def</span> <span class=\"nf\">hello</span><span class=\"p\">(</span><span class=\"n\">name</span><span class=\"p\">):</span>\n",
       "    <span class=\"k\">return</span> <span class=\"s2\">&quot;Bye, &quot;</span> <span class=\"o\">+</span> <span class=\"n\">name</span>\n",
       "</pre></div>\n",
       "</pre>\n",
       "<h2 style='color: #387;'>Results</h2>\n",
       "\n",
       "Your code does not compile\n",
       "\n",
       "\n",
       "<hr>\n",
       "<h2>Full result vector</h2>\n",
       "{'HelloTest.test_hello': False, 'HelloTest.test_includes_arg': True, 'HelloTest.test_includes_hello': False}\n"
      ],
      "text/plain": [
       "<IPython.core.display.HTML object>"
      ]
     },
     "execution_count": 22,
     "metadata": {},
     "output_type": "execute_result"
    }
   ],
   "source": [
    "# MASTER ONLY\n",
    "report(HelloTest_template, source=submission_source.source, results=result1.results)"
   ]
  },
  {
   "cell_type": "code",
   "execution_count": 23,
   "metadata": {},
   "outputs": [],
   "source": [
    "# MASTER ONLY\n",
    "result2, log = autotest(HelloSyntaxTest)\n",
    "assert result2.results['HelloSyntaxTest.test_compiles'] == True\n",
    "results = {**result1.results, **result2.results}"
   ]
  },
  {
   "cell_type": "code",
   "execution_count": 24,
   "metadata": {},
   "outputs": [
    {
     "data": {
      "text/html": [
       "<style type='text/css'>\n",
       ".k { color: purple; }\n",
       ".c1 { color: green; }\n",
       ".s2 { color: brown; }\n",
       "</style>\n",
       "<h2 style='color: #387;'>Your submission</h2>\n",
       "<pre><div class=\"highlight\"><pre><span></span><span class=\"c1\"># The tests below test that the unit test suite above produces expected outcomes from</span>\n",
       "<span class=\"k\">def</span> <span class=\"nf\">hello</span><span class=\"p\">(</span><span class=\"n\">name</span><span class=\"p\">):</span>\n",
       "    <span class=\"k\">return</span> <span class=\"s2\">&quot;Bye, &quot;</span> <span class=\"o\">+</span> <span class=\"n\">name</span>\n",
       "</pre></div>\n",
       "</pre>\n",
       "<h2 style='color: #087;'>Results</h2>\n",
       "\n",
       "Syntax looks fine.\n",
       "\n",
       "\n",
       "<hr>\n",
       "<h2>Full result vector</h2>\n",
       "{'HelloSyntaxTest.test_compiles': True}\n"
      ],
      "text/plain": [
       "<IPython.core.display.HTML object>"
      ]
     },
     "execution_count": 24,
     "metadata": {},
     "output_type": "execute_result"
    }
   ],
   "source": [
    "# MASTER ONLY\n",
    "report(HelloSyntaxTest_template, source=submission_source.source, results=result2.results)"
   ]
  },
  {
   "cell_type": "code",
   "execution_count": 25,
   "metadata": {},
   "outputs": [
    {
     "data": {
      "text/html": [
       "<h2 style='color: #387;'>Your submission</h2>\n",
       "<pre style='background: #F0F0F0; padding: 3pt; margin: 4pt; border: 1pt solid #DDD; border-radius: 3pt;'<div class=\"highlight\"><pre><span></span><span class=\"c1\"># The tests below test that the unit test suite above produces expected outcomes from</span>\n",
       "<span class=\"k\">def</span> <span class=\"nf\">hello</span><span class=\"p\">(</span><span class=\"n\">name</span><span class=\"p\">):</span>\n",
       "    <span class=\"k\">return</span> <span class=\"s2\">&quot;Bye, &quot;</span> <span class=\"o\">+</span> <span class=\"n\">name</span>\n",
       "</pre></div>\n",
       "</pre>\n",
       "<h2 style='color: #387;'>Results</h2>\n",
       "\n",
       "Your code does not compile\n",
       "\n",
       "\n",
       "<hr>\n",
       "<h2>Full result vector</h2>\n",
       "{'HelloSyntaxTest.test_compiles': True}\n"
      ],
      "text/plain": [
       "<IPython.core.display.HTML object>"
      ]
     },
     "execution_count": 25,
     "metadata": {},
     "output_type": "execute_result"
    }
   ],
   "source": [
    "# MASTER ONLY\n",
    "report(HelloTest_template, source=submission_source.source, results=result2.results)"
   ]
  },
  {
   "cell_type": "code",
   "execution_count": 26,
   "metadata": {},
   "outputs": [],
   "source": [
    "%%submission\n",
    "def wrong_hello(name):\n",
    "    return \"Bye, \" + name"
   ]
  },
  {
   "cell_type": "code",
   "execution_count": 27,
   "metadata": {},
   "outputs": [
    {
     "name": "stdout",
     "output_type": "stream",
     "text": [
      "test_compiles (__main__.HelloSyntaxTest) ... ok\n",
      "\n",
      "----------------------------------------------------------------------\n",
      "Ran 1 test in 0.001s\n",
      "\n",
      "OK\n",
      "\n",
      "{'HelloSyntaxTest.test_compiles': True}\n"
     ]
    }
   ],
   "source": [
    " # MASTER ONLY\n",
    "result, log = autotest(HelloSyntaxTest)\n",
    "print(log)\n",
    "print(result.results)"
   ]
  },
  {
   "cell_type": "code",
   "execution_count": 28,
   "metadata": {},
   "outputs": [
    {
     "name": "stdout",
     "output_type": "stream",
     "text": [
      "Exception while executing submission:\n",
      " invalid syntax (<string>, line 4)\n"
     ]
    }
   ],
   "source": [
    "%%submission\n",
    "# This submission has a syntax error. Note that invalid code inside %%submission cell\n",
    "# does not break the notebook execution.\n",
    "def syntax_error(name:\n",
    "    return name"
   ]
  },
  {
   "cell_type": "code",
   "execution_count": 29,
   "metadata": {},
   "outputs": [],
   "source": [
    "# MASTER ONLY\n",
    "# In case of syntax error in submission, it is initiliazed to None value.\n",
    "assert submission == None\n",
    "# TODO(salikh): Fix the behavior, since in the autograder 'import submission' will fail,\n",
    "# producing empty outcome vector rather than a bunch of ERROR outcomes."
   ]
  },
  {
   "cell_type": "code",
   "execution_count": 30,
   "metadata": {},
   "outputs": [
    {
     "name": "stdout",
     "output_type": "stream",
     "text": [
      "test_compiles (__main__.HelloSyntaxTest) ... ERROR\n",
      "\n",
      "======================================================================\n",
      "ERROR: test_compiles (__main__.HelloSyntaxTest)\n",
      "----------------------------------------------------------------------\n",
      "Traceback (most recent call last):\n",
      "  File \"<ipython-input-16-4a6176a6e13a>\", line 9, in test_compiles\n",
      "    ast.parse(submission_source.source)\n",
      "  File \"/usr/lib/python3.6/ast.py\", line 35, in parse\n",
      "    return compile(source, filename, mode, PyCF_ONLY_AST)\n",
      "  File \"<unknown>\", line 4\n",
      "    return name\n",
      "         ^\n",
      "SyntaxError: invalid syntax\n",
      "\n",
      "----------------------------------------------------------------------\n",
      "Ran 1 test in 0.004s\n",
      "\n",
      "FAILED (errors=1)\n",
      "\n",
      "{'HelloSyntaxTest.test_compiles': False}\n"
     ]
    }
   ],
   "source": [
    "# autotest expects the submission to have been set with %%submission cell magic previously.\n",
    "result3, log = autotest(HelloSyntaxTest)\n",
    "print(log)\n",
    "print(result3.results)\n",
    "assert(result3.results['HelloSyntaxTest.test_compiles'] == False)"
   ]
  },
  {
   "cell_type": "code",
   "execution_count": 31,
   "metadata": {},
   "outputs": [
    {
     "data": {
      "text/html": [
       "<style type='text/css'>\n",
       ".k { color: purple; }\n",
       ".c1 { color: green; }\n",
       ".s2 { color: brown; }\n",
       "</style>\n",
       "<h2 style='color: #387;'>Your submission</h2>\n",
       "<pre><div class=\"highlight\"><pre><span></span><span class=\"c1\"># This submission has a syntax error. Note that invalid code inside %%submission cell</span>\n",
       "<span class=\"c1\"># does not break the notebook execution.</span>\n",
       "<span class=\"k\">def</span> <span class=\"nf\">syntax_error</span><span class=\"p\">(</span><span class=\"n\">name</span><span class=\"p\">:</span>\n",
       "    <span class=\"k\">return</span> <span class=\"n\">name</span>\n",
       "</pre></div>\n",
       "</pre>\n",
       "<h2 style='color: #087;'>Results</h2>\n",
       "\n",
       "Do you even compile, bro?\n",
       "\n",
       "\n",
       "<hr>\n",
       "<h2>Full result vector</h2>\n",
       "{'HelloSyntaxTest.test_compiles': False}\n"
      ],
      "text/plain": [
       "<IPython.core.display.HTML object>"
      ]
     },
     "execution_count": 31,
     "metadata": {},
     "output_type": "execute_result"
    }
   ],
   "source": [
    "# MASTER ONLY\n",
    "report(HelloSyntaxTest_template, source=submission_source.source, results=result3.results)"
   ]
  }
 ],
 "metadata": {
  "kernelspec": {
   "display_name": "Python 3",
   "language": "python",
   "name": "python3"
  },
  "language_info": {
   "codemirror_mode": {
    "name": "ipython",
    "version": 3
   },
   "file_extension": ".py",
   "mimetype": "text/x-python",
   "name": "python",
   "nbconvert_exporter": "python",
   "pygments_lexer": "ipython3",
   "version": "3.6.5"
  }
 },
 "nbformat": 4,
 "nbformat_minor": 2
}
