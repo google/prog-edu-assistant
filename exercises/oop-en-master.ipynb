{
 "cells": [
  {
   "cell_type": "markdown",
   "metadata": {
    "colab_type": "text",
    "id": "ZPcRRHtYEtzT"
   },
   "source": [
    "# Object-Oriented Programming\n",
    "\n",
    "Learning outcomes:\n",
    "\n",
    "*   Understand the concept of \"encapsulation\" and \"abstraction\"\n",
    "*   Understand why we use classes in object-oriented programming\n",
    "*   Understand the Python syntax for initializing classes, calling methods, and using properties.\n",
    "\n",
    "```\n",
    "# ASSIGNMENT METADATA\n",
    "assignment_id: \"oop\"\n",
    "```"
   ]
  },
  {
   "cell_type": "code",
   "execution_count": 1,
   "metadata": {},
   "outputs": [],
   "source": [
    "# MASTER ONLY\n",
    "from prog_edu_assistant_tools.magics import report, autotest\n",
    "%load_ext prog_edu_assistant_tools.magics"
   ]
  },
  {
   "cell_type": "markdown",
   "metadata": {
    "colab_type": "text",
    "id": "2J-JXSMHMzWO"
   },
   "source": [
    "## Dates\n",
    "\n",
    "In this assignment, we'll be exploring different ways to represent dates. Although we use dates in our daily lives, they are surprisingly complicated with a lot of edge-cases. For example, how do we decide what's a valid date? How do we figure out what date it is tomorrow? And how do we even deal with time zones?\n",
    "\n",
    "Object-oriented programming provides us with a framework to avoid dealing with these fine details. Instead of thinking about individual steps (e.g., to determine tomorrow's date, we have to add a day to the month, or add a month to the year, or add a year!) we can think of a Date as _something_ that can do things (e.g., \"tell me your next date\"), and expect that it will do these things correctly.\n",
    "\n",
    "*  **Abstraction:** Hiding these details is known as _abstraction_. When talking to a Date, all we should need to know is how to talk to it (i.e., what it can do, and what questions it can answer), rather than how it does it.\n",
    "*   **Encapsulation:** All details relating to dates should be grouped together behind Date objects. This way, we can simply trust that the Date works correctly rather than fiddling around with many different pieces. This can be in terms of related functionality, or even keeping the pieces of a date together in a single place (i.e., the day, month, and year).\n"
   ]
  },
  {
   "cell_type": "markdown",
   "metadata": {
    "colab_type": "text",
    "id": "DR1DChIRY6zz"
   },
   "source": [
    "## The `Date` class: constructors and properties"
   ]
  },
  {
   "cell_type": "markdown",
   "metadata": {
    "colab_type": "text",
    "id": "n6cnXTtKor_f"
   },
   "source": [
    "In the following section, we'll be using the terms \"class\", \"object\", and \"instance\" a lot. Let's clear up what each of these terms mean.\n",
    "\n",
    "*    **Class:** A class is a blueprint for how a certain group of things behave.\n",
    "*    **Object:** An object is something that is been created out of one such blueprint.\n",
    "*    **Instance:** An \"instance of a class\" is another way of describing an object of a particular class.\n",
    "\n",
    "To make these concrete, we want to create a Date class. This is to say, we want to have a blueprint for how we talk about dates, e.g., how they're created, what information they store, and what information they can tell us. Afterwards, we want to use this blueprint to create Date objects, which we can later use in our programs.\n",
    "\n",
    "The Python language supports object-oriented programming. We'll first be exploring the following concepts in Python:\n",
    "\n",
    "*    We will create a Date `class` that is a blueprint for our `Date` objects.\n",
    "*    `class`es can have _properties_, which are pieces of data related to the class. We'll be using properties to store the year, month, and day associated with the date.\n"
   ]
  },
  {
   "cell_type": "markdown",
   "metadata": {
    "colab_type": "text",
    "id": "lQI8T-48jdp9"
   },
   "source": [
    "### Constructors\n",
    "\n",
    "Below, we define the `Date` class to represent a date. Notice that we define the `__init__(...)` function inside the class. This is known as the constructor.\n",
    "\n",
    "*   This function has a special name, `__init__(...)`, which stands for \"initialize\". This is a special function that Python understands as being used to create a `Date` object. Notice that it takes four arguments, `self`, and the components of a date.\n",
    "*   `self` is a special argument that is used to refer to \"ourself\". This is because in our blueprint, we need a way to refer to the object we're creating and modifying itself.\n",
    "*   Inside the function, we then assign the components of the date to `self.year`, `self.month`, and `self.day`. The dot operator, `.`, can be thought of as something like a possessive (in English, this would be an 's). So, `self.year` is like \"self's year\"."
   ]
  },
  {
   "cell_type": "code",
   "execution_count": 2,
   "metadata": {
    "colab": {},
    "colab_type": "code",
    "id": "bg9GtpkhEzdc"
   },
   "outputs": [],
   "source": [
    "class Date(object):\n",
    "  def __init__(self, year, month, day):\n",
    "    self.year = year\n",
    "    self.month = month\n",
    "    self.day = day"
   ]
  },
  {
   "cell_type": "markdown",
   "metadata": {
    "colab_type": "text",
    "id": "ozA54iEAdS4O"
   },
   "source": [
    "### Using constructors and properties\n",
    "\n",
    "To call the constructor, we _call_ the class, e.g., `Date(2019, 4, 7)` to create a date corresponding to 2019/4/7. Notice that we don't need to pass `self` as an argument since Python does this for us. After creating our `Date`, we can then access its properties using the dot operator."
   ]
  },
  {
   "cell_type": "code",
   "execution_count": 3,
   "metadata": {
    "colab": {},
    "colab_type": "code",
    "id": "lY0VcXaeIYFx"
   },
   "outputs": [
    {
     "name": "stdout",
     "output_type": "stream",
     "text": [
      "2019/4/7\n"
     ]
    }
   ],
   "source": [
    "d = Date(2019, 4, 7)\n",
    "print('{}/{}/{}'.format(d.year, d.month, d.day))"
   ]
  },
  {
   "cell_type": "code",
   "execution_count": 4,
   "metadata": {
    "colab": {},
    "colab_type": "code",
    "id": "Dzbk9t6zIkcg"
   },
   "outputs": [],
   "source": [
    "class Date(object):\n",
    "  def __init__(self, year, month, day):\n",
    "    self.year = year\n",
    "    self.month = month\n",
    "    self.day = day\n",
    "    \n",
    "  # This is another special function that allows us to call print(...) on a\n",
    "  # Date object.\n",
    "  def __str__(self):\n",
    "    return '{}/{}/{}'.format(self.year, self.month, self.day)"
   ]
  },
  {
   "cell_type": "code",
   "execution_count": 5,
   "metadata": {
    "colab": {},
    "colab_type": "code",
    "id": "cVIYbeW2Iqkq"
   },
   "outputs": [
    {
     "name": "stdout",
     "output_type": "stream",
     "text": [
      "2019/4/7\n"
     ]
    }
   ],
   "source": [
    "d = Date(2019, 4, 7)\n",
    "print(d)"
   ]
  },
  {
   "cell_type": "markdown",
   "metadata": {
    "colab_type": "text",
    "id": "7E6lm7-fjBEE"
   },
   "source": [
    "## Exercise: Using the `Date` class and its properties"
   ]
  },
  {
   "cell_type": "markdown",
   "metadata": {
    "colab_type": "text",
    "id": "u63qUkrHo6F_"
   },
   "source": [
    "In the following code cells, implement the `is_valid_date`, `increment_date`, `is_equal_date`, and `is_later_date` functions."
   ]
  },
  {
   "cell_type": "markdown",
   "metadata": {
    "colab_type": "text",
    "id": "P3PqyPPSvDjh"
   },
   "source": [
    "### `is_equal_date`"
   ]
  },
  {
   "cell_type": "markdown",
   "metadata": {
    "colab_type": "text",
    "id": "E9WMzN8mgobl"
   },
   "source": [
    "```\n",
    "# EXERCISE METADATA\n",
    "exercise_id: \"is_equal_date\"\n",
    "```\n",
    "\n",
    "This method should return `True` if `date` is equal to `other_date`."
   ]
  },
  {
   "cell_type": "code",
   "execution_count": 6,
   "metadata": {
    "colab": {},
    "colab_type": "code",
    "id": "_zNVEEVvF_4-"
   },
   "outputs": [],
   "source": [
    "%%solution\n",
    "def is_equal_date(date, other_date):\n",
    "  \"\"\" # BEGIN PROMPT\n",
    "    # Put your program here!\n",
    "    pass\n",
    "  \"\"\" # END PROMPT\n",
    "# BEGIN SOLUTION\n",
    "  return (date.year == other_date.year and\n",
    "          date.month == other_date.month and\n",
    "          date.day == other_date.day)\n",
    "# END SOLUTION"
   ]
  },
  {
   "cell_type": "code",
   "execution_count": 7,
   "metadata": {
    "colab": {},
    "colab_type": "code",
    "id": "E75S9qFRW_88"
   },
   "outputs": [],
   "source": [
    "# TEST\n",
    "assert is_equal_date(Date(2019, 4, 15), Date(2019, 4, 15))\n",
    "assert not is_equal_date(Date(2019, 4, 15), Date(2019, 4, 16))\n",
    "assert not is_equal_date(Date(2019, 4, 31), Date(2019, 5, 1))"
   ]
  },
  {
   "cell_type": "code",
   "execution_count": 8,
   "metadata": {},
   "outputs": [
    {
     "name": "stdout",
     "output_type": "stream",
     "text": [
      "test_equal1 (__main__.IsEqualTest) ... ok\n",
      "test_equal_neg1 (__main__.IsEqualTest) ... ok\n",
      "test_equal_neg2 (__main__.IsEqualTest) ... ok\n",
      "test_equal_neg3 (__main__.IsEqualTest) ... ok\n",
      "\n",
      "----------------------------------------------------------------------\n",
      "Ran 4 tests in 0.000s\n",
      "\n",
      "OK\n",
      "\n"
     ]
    }
   ],
   "source": [
    "# BEGIN UNITTEST\n",
    "#import submission\n",
    "import unittest\n",
    "\n",
    "class Date(object):\n",
    "  def __init__(self, year, month, day):\n",
    "    self.year = year\n",
    "    self.month = month\n",
    "    self.day = day\n",
    "    \n",
    "  # This is another special function that allows us to call print(...) on a\n",
    "  # Date object.\n",
    "  def __str__(self):\n",
    "    return '{}/{}/{}'.format(self.year, self.month, self.day)\n",
    "\n",
    "class IsEqualTest(unittest.TestCase):\n",
    "    def test_equal1(self):\n",
    "        self.assertTrue(submission.is_equal_date(Date(2019, 4, 15), Date(2019, 4, 15)))\n",
    "    def test_equal_neg1(self):\n",
    "        self.assertFalse(submission.is_equal_date(Date(2019, 4, 15), Date(2019, 4, 16)))\n",
    "    def test_equal_neg2(self):\n",
    "        self.assertFalse(submission.is_equal_date(Date(2019, 4, 15), Date(2019, 5, 15)))\n",
    "    def test_equal_neg3(self):\n",
    "        self.assertFalse(submission.is_equal_date(Date(2019, 4, 15), Date(2018, 4, 15)))\n",
    "\n",
    "# END UNITTEST\n",
    "\n",
    "from prog_edu_assistant_tools.magics import autotest, report\n",
    "result, log = autotest(IsEqualTest)\n",
    "print(log)\n",
    "assert(result.results['IsEqualTest.test_equal1'])\n",
    "assert(result.results['IsEqualTest.test_equal_neg1'])\n",
    "assert(result.results['IsEqualTest.test_equal_neg2'])\n",
    "assert(result.results['IsEqualTest.test_equal_neg3'])"
   ]
  },
  {
   "cell_type": "markdown",
   "metadata": {
    "colab_type": "text",
    "id": "44NxrfCwe1QH"
   },
   "source": [
    "### `is_later_date`"
   ]
  },
  {
   "cell_type": "markdown",
   "metadata": {
    "colab_type": "text",
    "id": "NPrvVLU7gmFQ"
   },
   "source": [
    "```\n",
    "# EXERCISE METADATA\n",
    "exercise_id: \"is_later_date\"\n",
    "```\n",
    "\n",
    "This method should return `True` if `date` is later than `other_date`."
   ]
  },
  {
   "cell_type": "code",
   "execution_count": 9,
   "metadata": {
    "colab": {},
    "colab_type": "code",
    "id": "IntmAKhUE_WN"
   },
   "outputs": [],
   "source": [
    "%%solution\n",
    "def is_later_date(date, other_date):\n",
    "  \"\"\" # BEGIN PROMPT\n",
    "    # Put your solution here!\n",
    "    pass\n",
    "  \"\"\" # END PROMPT\n",
    "# BEGIN SOLUTION\n",
    "  if date.year != other_date.year:\n",
    "    return date.year > other_date.year\n",
    "  if date.month != other_date.month:\n",
    "    return date.month > other_date.month\n",
    "  return date.day > other_date.day\n",
    "# END SOLUTION"
   ]
  },
  {
   "cell_type": "code",
   "execution_count": 10,
   "metadata": {
    "colab": {},
    "colab_type": "code",
    "id": "Fad7F0uSXBLc"
   },
   "outputs": [],
   "source": [
    "assert is_later_date(Date(2019, 4, 15), Date(2019, 4, 14))\n",
    "assert not is_later_date(Date(2019, 4, 15), Date(2019, 4, 15))\n",
    "assert not is_later_date(Date(2019, 4, 15), Date(2019, 4, 16))\n",
    "assert is_later_date(Date(2019, 4, 15), Date(2018, 4, 15))\n",
    "assert is_later_date(Date(2019, 5, 15), Date(2018, 4, 15))"
   ]
  },
  {
   "cell_type": "markdown",
   "metadata": {
    "colab_type": "text",
    "id": "jJPBOuQFe8aA"
   },
   "source": [
    "### `is_valid_date`"
   ]
  },
  {
   "cell_type": "markdown",
   "metadata": {
    "colab_type": "text",
    "id": "TTsKbUGigkS4"
   },
   "source": [
    "```\n",
    "# EXERCISE METADATA\n",
    "exercise_id: \"is_valid_date\"\n",
    "```\n",
    "\n",
    "This method should return `True` if `date` is a valid date, assuming that 0AD is the first supported year. As such, the method should check whether the year is valid; whether the month is between 1 and 12; and whether the day is valid given the month and year (e.g., taking into account leap years)."
   ]
  },
  {
   "cell_type": "code",
   "execution_count": 11,
   "metadata": {
    "colab": {},
    "colab_type": "code",
    "id": "j9sCQIE8E6wV"
   },
   "outputs": [],
   "source": [
    "%%solution\n",
    "# BEGIN SOLUTION\n",
    "def is_leap_year(year):\n",
    "  if (year % 4) != 0:\n",
    "    return False\n",
    "  if (year % 100) != 0:\n",
    "    return True\n",
    "  return (year % 400) == 0\n",
    "\n",
    "def days_in_month(month, year):\n",
    "  if month == 2:\n",
    "    return 29 if is_leap_year(year) else 28\n",
    "  elif month in [ 4, 6, 9, 11 ]:\n",
    "    return 30\n",
    "  else:\n",
    "    return 31\n",
    "\n",
    "# END SOLUTION\n",
    "def is_valid_date(date):\n",
    "  \"\"\" # BEGIN PROMPT\n",
    "    # Put your solution here!\n",
    "    pass\n",
    "  \"\"\" # END PROMPT\n",
    "# BEGIN SOLUTION\n",
    "  if date.year < 0:\n",
    "    return False\n",
    "  if date.month < 1 or date.month > 12:\n",
    "    return False\n",
    "  if date.day < 1:\n",
    "    return False\n",
    "  return date.day <= days_in_month(date.month, date.year)\n",
    "# END SOLUTION"
   ]
  },
  {
   "cell_type": "code",
   "execution_count": 12,
   "metadata": {
    "colab": {},
    "colab_type": "code",
    "id": "YaxTog5U2SCo"
   },
   "outputs": [],
   "source": [
    "assert is_valid_date(Date(2019, 4, 7))\n",
    "assert not is_valid_date(Date(2019, -1, 7))\n",
    "assert not is_valid_date(Date(2019, 4, -1))\n",
    "assert not is_valid_date(Date(-1, 4, 7))\n",
    "assert not is_valid_date(Date(2019, 4, 32))\n",
    "assert not is_valid_date(Date(2019, 13, 7))\n",
    "assert not is_valid_date(Date(2019, 4, 31))"
   ]
  },
  {
   "cell_type": "markdown",
   "metadata": {
    "colab_type": "text",
    "id": "4_BD-KQCfXPU"
   },
   "source": [
    "### `increment_date`\n",
    "\n"
   ]
  },
  {
   "cell_type": "markdown",
   "metadata": {
    "colab_type": "text",
    "id": "fYCDG7OJgg68"
   },
   "source": [
    "```\n",
    "# EXERCISE METADATA\n",
    "exercise_id: \"increment_date\"\n",
    "```\n",
    "\n",
    "Increments `date` by `quantity`.\n",
    "\n",
    "As an example, if we call:\n",
    "\n",
    "```py\n",
    "d = Date(2019, 4, 5)\n",
    "increment_date(d, 5)\n",
    "```\n",
    "\n",
    "`d` should then be equal to (as defined by the earlier `is_equal_date()` function) `Date(2019, 4, 10)`.\n",
    "\n",
    "\n",
    "This method should be able to handle large quantities. For example, if we call:\n",
    "\n",
    "```py\n",
    "d = Date(2019, 4, 5)\n",
    "increment_date(d, 30)\n",
    "```\n",
    "\n",
    "The resulting day should be equal to `Date(2019, 5, 5)`.\n"
   ]
  },
  {
   "cell_type": "code",
   "execution_count": 13,
   "metadata": {
    "colab": {},
    "colab_type": "code",
    "id": "DHqOeDJ7E93C"
   },
   "outputs": [],
   "source": [
    "%%solution\n",
    "# BEGIN SOLUTION\n",
    "def increment_date_by_day(date):\n",
    "  if is_valid_date(Date(date.year, date.month, date.day + 1)):\n",
    "    date.day += 1\n",
    "    return\n",
    "  if is_valid_date(Date(date.year, date.month + 1, 1)):\n",
    "    date.month += 1\n",
    "    date.day = 1\n",
    "    return\n",
    "  date.year += 1\n",
    "  date.month = 1\n",
    "  date.day = 1\n",
    "  return\n",
    "\n",
    "# END SOLUTION\n",
    "def increment_date(date, quantity):\n",
    "  \"\"\" # BEGIN PROMPT\n",
    "    # Put your solution here!\n",
    "    pass\n",
    "  \"\"\" # END PROMPT\n",
    "# BEGIN SOLUTION\n",
    "  for _ in range(quantity):\n",
    "    increment_date_by_day(date)\n",
    "# END SOLUTION"
   ]
  },
  {
   "cell_type": "code",
   "execution_count": 14,
   "metadata": {
    "colab": {},
    "colab_type": "code",
    "id": "-6GCC2V62T48"
   },
   "outputs": [],
   "source": [
    "def increment_and_return_date(date, quantity):\n",
    "  increment_date(date, quantity)\n",
    "  return date\n",
    "  \n",
    "assert is_equal_date(increment_and_return_date(Date(2019, 4, 7), 2),\n",
    "                     Date(2019, 4, 9))\n",
    "assert is_equal_date(increment_and_return_date(Date(2019, 4, 7), 24),\n",
    "                     Date(2019, 5, 1))"
   ]
  },
  {
   "cell_type": "markdown",
   "metadata": {
    "colab_type": "text",
    "id": "DvpEVcDVkL3_"
   },
   "source": [
    "## The `Date` class: methods"
   ]
  },
  {
   "cell_type": "markdown",
   "metadata": {
    "colab_type": "text",
    "id": "TSccAkOXoOwK"
   },
   "source": [
    "Previously, we defined many functions that all took a `date` and either modified or told us something about `date`. Methods flip this relationship by defining actions that can be performed _by_ a class, rather than having actions performed _on_ a class. Defining methods rather than functions allows us to encapsulate actions within a class and keep their implementations close to one another.\n",
    "\n",
    "In the below example, we define `is_valid` and `increment` as methods. Notice that these can all directly refer to the `Date` itself through the `self` parameter. `__init__(...)` is also a method, albeit a special one understood by Python."
   ]
  },
  {
   "cell_type": "code",
   "execution_count": 15,
   "metadata": {
    "colab": {},
    "colab_type": "code",
    "id": "KE9Dl8XSIH3u"
   },
   "outputs": [],
   "source": [
    "class Date(object):\n",
    "  def __init__(self, year, month, day):\n",
    "    self.year = year\n",
    "    self.month = month\n",
    "    self.day = day\n",
    "    \n",
    "  # This is another special function that allows us to call print(...) on a\n",
    "  # Date object.\n",
    "  def __str__(self):\n",
    "    return '{}/{}/{}'.format(self.year, self.month, self.day)\n",
    "   \n",
    "  def is_valid(self):\n",
    "    return is_valid_date(self)\n",
    "  \n",
    "  def increment(self, quantity):\n",
    "    return increment_date(self, quantity)"
   ]
  },
  {
   "cell_type": "markdown",
   "metadata": {
    "colab_type": "text",
    "id": "FPGT8XhQnCAW"
   },
   "source": [
    "To invoke a method, we again use the dot operator, but now _call_ the method as we would other functions."
   ]
  },
  {
   "cell_type": "code",
   "execution_count": 16,
   "metadata": {
    "colab": {},
    "colab_type": "code",
    "id": "tZv8gJaiIUvU"
   },
   "outputs": [],
   "source": [
    "d = Date(2019, 12, 32)\n",
    "assert Date(2019, 1, 1).is_valid()"
   ]
  },
  {
   "cell_type": "markdown",
   "metadata": {
    "colab_type": "text",
    "id": "2p7tMIJqgyzX"
   },
   "source": [
    "### Aside: functions and methods, what's the difference?\n",
    "\n"
   ]
  },
  {
   "cell_type": "markdown",
   "metadata": {
    "colab_type": "text",
    "id": "4RyQW7R2hF9E"
   },
   "source": [
    "*    A **function** is a way to express a series of operations in code. The operations can take some or no inputs, and can produce some or no outputs. Sometimes, functions can modify their inputs. In practice, a function is a helpful way to (1) organize code to make it easier to understand, and (2) allow us to easily reuse code in different parts of our program.\n",
    "*    A **method** is a specific type of function that are used with classes. They are defined inside of `class` definitions, and are different from regular functions in that they always have a `self` argument. When you call a method on the class, Python automatically knows to pass the object as `self`, so you only need to pass the remaining arguments."
   ]
  },
  {
   "cell_type": "markdown",
   "metadata": {
    "colab_type": "text",
    "id": "fiuhHsapnKjP"
   },
   "source": [
    "## Exercise: Defining comparators for the `Date` class"
   ]
  },
  {
   "cell_type": "markdown",
   "metadata": {
    "colab_type": "text",
    "id": "CtXg3gQ6oxVm"
   },
   "source": [
    "```\n",
    "# EXERCISE METADATA\n",
    "exercise_id: \"date_comparators\"\n",
    "```\n",
    "\n",
    "Another advantage of using methods is that we can have a consistent way to talk to objects. For example, we previously defined the `is_equal_dates` and `is_later_dates` functions, but how could we remember the specifics of these functions?\n",
    "\n",
    "Instead, we can rely on common comparisons that we generally understand and agree upon, e.g., <, >, and ==. Objects allow us to share these common interfaces between objects by defining how these operators should work through special methods.\n",
    "\n",
    "In the following exercise, define the `__eq__(...)` through `__ge__(...)` methods.\n",
    "\n",
    "Hint: only two of the comparators are required to define all the other comparators."
   ]
  },
  {
   "cell_type": "code",
   "execution_count": 17,
   "metadata": {
    "colab": {},
    "colab_type": "code",
    "id": "STd6ib0KI3WX"
   },
   "outputs": [],
   "source": [
    "%%solution\n",
    "class Date(object):\n",
    "  def __init__(self, year, month, day):\n",
    "    self.year = year\n",
    "    self.month = month\n",
    "    self.day = day\n",
    "    \n",
    "  # This is another special function that allows us to call print(...) on a\n",
    "  # Date object.\n",
    "  def __str__(self):\n",
    "    return '{}/{}/{}'.format(self.year, self.month, self.day)\n",
    "   \n",
    "  def is_valid(self):\n",
    "    return is_valid_date(self)\n",
    "  \n",
    "  def increment(self, quantity):\n",
    "    return increment_date(self, quantity)\n",
    "  \n",
    "  def __eq__(self, other):\n",
    "    return is_equal_date(self, other)\n",
    "  \n",
    "  def __gt__(self, other):\n",
    "    return is_later_date(self, other)\n",
    "  \n",
    "  def __ne__(self, other):\n",
    "    \"\"\" # BEGIN PROMPT\n",
    "      # Put your solution here!\n",
    "      pass\n",
    "    \"\"\" # END PROMPT\n",
    "# BEGIN SOLUTION\n",
    "    return not self == other\n",
    "# END SOLUTION\n",
    "  \n",
    "  def __lt__(self, other):\n",
    "    \"\"\" # BEGIN PROMPT\n",
    "      # Put your solution here!\n",
    "      pass\n",
    "    \"\"\" # END PROMPT\n",
    "# BEGIN SOLUTION\n",
    "    return not self == other and not self > other\n",
    "# END SOLUTION\n",
    "  \n",
    "  def __le__(self, other):\n",
    "    \"\"\" # BEGIN PROMPT\n",
    "      # Put your solution here!\n",
    "      pass\n",
    "    \"\"\" # END PROMPT\n",
    "# BEGIN SOLUTION\n",
    "    return not self > other\n",
    "# END SOLUTION\n",
    "  \n",
    "  def __ge__(self, other):\n",
    "    \"\"\" # BEGIN PROMPT\n",
    "      # Put your solution here!\n",
    "      pass\n",
    "    \"\"\" # END PROMPT\n",
    "# BEGIN SOLUTION\n",
    "    return self == other or self > other\n",
    "# END SOLUTION"
   ]
  },
  {
   "cell_type": "code",
   "execution_count": 18,
   "metadata": {
    "colab": {},
    "colab_type": "code",
    "id": "IS4ZJ5vxX813"
   },
   "outputs": [
    {
     "ename": "TypeError",
     "evalue": "'<=' not supported between instances of 'Date' and 'Date'",
     "output_type": "error",
     "traceback": [
      "\u001b[0;31m---------------------------------------------------------------------------\u001b[0m",
      "\u001b[0;31mTypeError\u001b[0m                                 Traceback (most recent call last)",
      "\u001b[0;32m<ipython-input-18-ed9adf78a70e>\u001b[0m in \u001b[0;36m<module>\u001b[0;34m\u001b[0m\n\u001b[1;32m      1\u001b[0m \u001b[0;32massert\u001b[0m \u001b[0mDate\u001b[0m\u001b[0;34m(\u001b[0m\u001b[0;36m2019\u001b[0m\u001b[0;34m,\u001b[0m \u001b[0;36m4\u001b[0m\u001b[0;34m,\u001b[0m \u001b[0;36m15\u001b[0m\u001b[0;34m)\u001b[0m \u001b[0;34m<\u001b[0m \u001b[0mDate\u001b[0m\u001b[0;34m(\u001b[0m\u001b[0;36m2019\u001b[0m\u001b[0;34m,\u001b[0m \u001b[0;36m4\u001b[0m\u001b[0;34m,\u001b[0m \u001b[0;36m16\u001b[0m\u001b[0;34m)\u001b[0m\u001b[0;34m\u001b[0m\u001b[0m\n\u001b[0;32m----> 2\u001b[0;31m \u001b[0;32massert\u001b[0m \u001b[0mDate\u001b[0m\u001b[0;34m(\u001b[0m\u001b[0;36m2019\u001b[0m\u001b[0;34m,\u001b[0m \u001b[0;36m4\u001b[0m\u001b[0;34m,\u001b[0m \u001b[0;36m15\u001b[0m\u001b[0;34m)\u001b[0m \u001b[0;34m<=\u001b[0m \u001b[0mDate\u001b[0m\u001b[0;34m(\u001b[0m\u001b[0;36m2019\u001b[0m\u001b[0;34m,\u001b[0m \u001b[0;36m4\u001b[0m\u001b[0;34m,\u001b[0m \u001b[0;36m16\u001b[0m\u001b[0;34m)\u001b[0m\u001b[0;34m\u001b[0m\u001b[0m\n\u001b[0m\u001b[1;32m      3\u001b[0m \u001b[0;32massert\u001b[0m \u001b[0mDate\u001b[0m\u001b[0;34m(\u001b[0m\u001b[0;36m2019\u001b[0m\u001b[0;34m,\u001b[0m \u001b[0;36m4\u001b[0m\u001b[0;34m,\u001b[0m \u001b[0;36m16\u001b[0m\u001b[0;34m)\u001b[0m \u001b[0;34m<=\u001b[0m \u001b[0mDate\u001b[0m\u001b[0;34m(\u001b[0m\u001b[0;36m2019\u001b[0m\u001b[0;34m,\u001b[0m \u001b[0;36m4\u001b[0m\u001b[0;34m,\u001b[0m \u001b[0;36m16\u001b[0m\u001b[0;34m)\u001b[0m\u001b[0;34m\u001b[0m\u001b[0m\n\u001b[1;32m      4\u001b[0m \u001b[0;32massert\u001b[0m \u001b[0mDate\u001b[0m\u001b[0;34m(\u001b[0m\u001b[0;36m2019\u001b[0m\u001b[0;34m,\u001b[0m \u001b[0;36m4\u001b[0m\u001b[0;34m,\u001b[0m \u001b[0;36m16\u001b[0m\u001b[0;34m)\u001b[0m \u001b[0;34m>\u001b[0m \u001b[0mDate\u001b[0m\u001b[0;34m(\u001b[0m\u001b[0;36m2019\u001b[0m\u001b[0;34m,\u001b[0m \u001b[0;36m4\u001b[0m\u001b[0;34m,\u001b[0m \u001b[0;36m15\u001b[0m\u001b[0;34m)\u001b[0m\u001b[0;34m\u001b[0m\u001b[0m\n\u001b[1;32m      5\u001b[0m \u001b[0;32massert\u001b[0m \u001b[0mDate\u001b[0m\u001b[0;34m(\u001b[0m\u001b[0;36m2019\u001b[0m\u001b[0;34m,\u001b[0m \u001b[0;36m4\u001b[0m\u001b[0;34m,\u001b[0m \u001b[0;36m16\u001b[0m\u001b[0;34m)\u001b[0m \u001b[0;34m>=\u001b[0m \u001b[0mDate\u001b[0m\u001b[0;34m(\u001b[0m\u001b[0;36m2019\u001b[0m\u001b[0;34m,\u001b[0m \u001b[0;36m4\u001b[0m\u001b[0;34m,\u001b[0m \u001b[0;36m15\u001b[0m\u001b[0;34m)\u001b[0m\u001b[0;34m\u001b[0m\u001b[0m\n",
      "\u001b[0;31mTypeError\u001b[0m: '<=' not supported between instances of 'Date' and 'Date'"
     ]
    }
   ],
   "source": [
    "assert Date(2019, 4, 15) < Date(2019, 4, 16)\n",
    "assert Date(2019, 4, 15) <= Date(2019, 4, 16)\n",
    "assert Date(2019, 4, 16) <= Date(2019, 4, 16)\n",
    "assert Date(2019, 4, 16) > Date(2019, 4, 15)\n",
    "assert Date(2019, 4, 16) >= Date(2019, 4, 15)\n",
    "assert Date(2019, 4, 16) >= Date(2019, 4, 16)\n",
    "assert Date(2019, 4, 15) != Date(2019, 4, 16)"
   ]
  },
  {
   "cell_type": "markdown",
   "metadata": {
    "colab_type": "text",
    "id": "2N_8NCFvpu00"
   },
   "source": [
    "## The `DateTime` class: inheritance"
   ]
  },
  {
   "cell_type": "markdown",
   "metadata": {
    "colab_type": "text",
    "id": "PvlsZJ1CXSeU"
   },
   "source": [
    "Another advantage of using classes is their potential for reuse. One pattern that's commonly used is the idea of _inheritance_, where one class is said to inherit from another. This means that one class \"takes\" all of the functionality of another, and extends it somehow. In this section, we explore the idea of adding the concept of time to our `Date` class by defining a class called a `DateTime`."
   ]
  },
  {
   "cell_type": "markdown",
   "metadata": {
    "colab_type": "text",
    "id": "t__17fkDY7K9"
   },
   "source": [
    "### Declaring an inheritance relationship"
   ]
  },
  {
   "cell_type": "markdown",
   "metadata": {
    "colab_type": "text",
    "id": "0JBy7dOiY_nB"
   },
   "source": [
    "A class can be declared as a subclass of another in its `class` declaration. We simply need to add the name of the class being subclassed from behind the name of our new class in parentheses. In the following example, use `DateTime(Date)` to indicate that `DateTime` is a subclass of `Date`."
   ]
  },
  {
   "cell_type": "code",
   "execution_count": null,
   "metadata": {
    "colab": {},
    "colab_type": "code",
    "id": "I_h3OwrvY4LO"
   },
   "outputs": [],
   "source": [
    "class DateTime(Date):\n",
    "  pass"
   ]
  },
  {
   "cell_type": "markdown",
   "metadata": {
    "colab_type": "text",
    "id": "xy5SghsveLa2"
   },
   "source": [
    "You may notice that this is the same as how we initially defined the `Date` class! Python classes are typically subclasses of the generic `object` class, which defines methods like `__init__`, `__str__`, and our comparators. These provide a nice, consistent interface that we're familiar and comfortable with whenever we use Python."
   ]
  },
  {
   "cell_type": "markdown",
   "metadata": {
    "colab_type": "text",
    "id": "C2Bt5YLZZufK"
   },
   "source": [
    "### Overriding superclass implementations of methods"
   ]
  },
  {
   "cell_type": "markdown",
   "metadata": {
    "colab_type": "text",
    "id": "gx4YU83BZ0gJ"
   },
   "source": [
    "By default, a subclass will \"take\" all the implementations of its superclass. For example, we can create a new `DateTime` and call the methods we previously implemented on `Date` using the same syntax as before, and the superclass implementation will be called."
   ]
  },
  {
   "cell_type": "code",
   "execution_count": null,
   "metadata": {
    "colab": {},
    "colab_type": "code",
    "id": "QCdHrQZ9aTlj"
   },
   "outputs": [],
   "source": [
    "# Calls the superclass constructor.\n",
    "dt = DateTime(2019, 3, 5)\n",
    "\n",
    "# Check if the date provided is valid.\n",
    "print(dt.is_valid())"
   ]
  },
  {
   "cell_type": "markdown",
   "metadata": {
    "colab_type": "text",
    "id": "7T9_ocMFbIKJ"
   },
   "source": [
    "However, we want to add new functionality in our `DateTime` class. This can be done through method _overrides_. This is a way of saying that instead of relying on the superclass implementation of a method, we want callers to use our own.\n",
    "\n",
    "When you call a method on an object, Python attempts to find the most derived implementation of method, then calls it. For example, if we override `is_valid()` on `DateTime` to always return `True`, then Python will call this version of the method instead of the one defined by `Date`."
   ]
  },
  {
   "cell_type": "code",
   "execution_count": null,
   "metadata": {
    "colab": {},
    "colab_type": "code",
    "id": "0aAELumzb7Zn"
   },
   "outputs": [],
   "source": [
    "class DateTime(Date):\n",
    "  def is_valid(self):\n",
    "    return True\n",
    "  \n",
    "dt = DateTime(2019, -1, 5)\n",
    "\n",
    "# Calls our new implementation of `is_valid()`, which always returns True.\n",
    "print(dt.is_valid())"
   ]
  },
  {
   "cell_type": "markdown",
   "metadata": {
    "colab_type": "text",
    "id": "FqjoAqpicJos"
   },
   "source": [
    "Sometimes, in these methods, we would like to _refer_ to the superclass implementation of a method. Python allows us to do this by calling `super(DateTime, self)`, which returns the super \"instance\" of the class that backs our new subclass. One way that we can use this is in our constructor, where we want to set hour and minute, on top of the existing year, month, and day."
   ]
  },
  {
   "cell_type": "code",
   "execution_count": null,
   "metadata": {
    "colab": {},
    "colab_type": "code",
    "id": "Wx_NhYw4cnXo"
   },
   "outputs": [],
   "source": [
    "class DateTime(Date):\n",
    "  def __init__(self, year, month, day, hour, minute):\n",
    "    super(DateTime, self).__init__(year, month, day)\n",
    "    self.hour = hour\n",
    "    self.minute = minute\n",
    "    \n",
    "  def __str__(self):\n",
    "    return '{}/{}/{}, {}:{}'.format(self.year, self.month, self.day, self.hour,\n",
    "                                    self.minute)\n",
    "    \n",
    "dt = DateTime(2019, 5, 4, 13, 50)\n",
    "print(dt)"
   ]
  },
  {
   "cell_type": "markdown",
   "metadata": {
    "colab_type": "text",
    "id": "OtvcHDNpekMZ"
   },
   "source": [
    "Calling `super()` is especially useful when we want to _reuse_ a previous implementation. After all, since we put so much work into implementing our superclass, why should we throw all this work away! An example of this is how we might override the `__eq__()` function to check that the minute and hour are equal, on top of all the other fields. Notice that we use the `super()` implementation to do the work for all the other fields."
   ]
  },
  {
   "cell_type": "code",
   "execution_count": null,
   "metadata": {
    "colab": {},
    "colab_type": "code",
    "id": "D_ZtRDvOZo2I"
   },
   "outputs": [],
   "source": [
    "class DateTime(Date):\n",
    "  def __init__(self, year, month, day, hour, minute):\n",
    "    super(DateTime, self).__init__(year, month, day)\n",
    "    self.hour = hour\n",
    "    self.minute = minute\n",
    "    \n",
    "  def __str__(self):\n",
    "    return '{}/{}/{}, {}:{}'.format(self.year, self.month, self.day, self.hour,\n",
    "                                    self.minute)\n",
    "   \n",
    "  def __eq__(self, other):\n",
    "    if not isinstance(other, DateTime):\n",
    "      return False\n",
    "    if self.minute != other.minute:\n",
    "      return False\n",
    "    if self.hour != other.hour:\n",
    "      return False\n",
    "    return super(DateTime, self).__eq__(other)\n",
    "  \n",
    "assert DateTime(2019, 5, 4, 13, 50) == DateTime(2019, 5, 4, 13, 50)\n",
    "\n",
    "# Relies on our subclass implementation to identify as different.\n",
    "assert DateTime(2019, 5, 4, 13, 50) != DateTime(2019, 5, 4, 13, 51)"
   ]
  }
 ],
 "metadata": {
  "colab": {
   "collapsed_sections": [
    "qizRzfq9G2Iq"
   ],
   "name": "oop.ipynb",
   "provenance": [],
   "version": "0.3.2"
  },
  "kernelspec": {
   "display_name": "Python 3",
   "language": "python",
   "name": "python3"
  },
  "language_info": {
   "codemirror_mode": {
    "name": "ipython",
    "version": 3
   },
   "file_extension": ".py",
   "mimetype": "text/x-python",
   "name": "python",
   "nbconvert_exporter": "python",
   "pygments_lexer": "ipython3",
   "version": "3.6.5"
  }
 },
 "nbformat": 4,
 "nbformat_minor": 1
}
